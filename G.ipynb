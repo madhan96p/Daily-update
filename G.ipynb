{
 "cells": [
  {
   "cell_type": "code",
   "execution_count": 3,
   "metadata": {},
   "outputs": [],
   "source": [
    "import os\n",
    "import time\n",
    "import pandas as pd\n",
    "from selenium import webdriver\n",
    "from selenium.webdriver.common.by import By\n",
    "from selenium.webdriver.support import expected_conditions as EC\n",
    "from selenium.common.exceptions import StaleElementReferenceException\n"
   ]
  },
  {
   "cell_type": "code",
   "execution_count": 32,
   "metadata": {},
   "outputs": [],
   "source": [
    "driver = webdriver.Chrome()\n",
    "driver.maximize_window()"
   ]
  },
  {
   "cell_type": "code",
   "execution_count": 33,
   "metadata": {},
   "outputs": [],
   "source": [
    "url = \"https://www.goodreturns.in/gold-rates/\""
   ]
  },
  {
   "cell_type": "code",
   "execution_count": 34,
   "metadata": {},
   "outputs": [],
   "source": [
    "driver.get(url)"
   ]
  },
  {
   "cell_type": "code",
   "execution_count": 35,
   "metadata": {},
   "outputs": [],
   "source": [
    "data = {}"
   ]
  },
  {
   "cell_type": "code",
   "execution_count": 46,
   "metadata": {},
   "outputs": [],
   "source": [
    "for _ in range(10):\n",
    "    try:\n",
    "        elements = driver.find_elements(By.CSS_SELECTOR, '.marquee-item')    \n",
    "        # If no elements are found, retry\n",
    "        if not elements:\n",
    "            time.sleep(2)  # Slightly increase the sleep time between retries\n",
    "            continue\n",
    "        \n",
    "        for elem in elements:\n",
    "            text = elem.text.strip()\n",
    "\n",
    "            # Check for the relevant data and store it in the dictionary\n",
    "            if \"22k Gold\" in text:\n",
    "                data[\"22k Gold\"] = text.split('₹')[-1].strip()\n",
    "            elif \"Silver\" in text:\n",
    "                data[\"Silver\"] = text.split('₹')[-1].strip()\n",
    "            elif \"Petrol\" in text:\n",
    "                data[\"Petrol\"] = text.split('₹')[-1].strip()\n",
    "            elif \"Diesel\" in text:\n",
    "                data[\"Diesel\"] = text.split('₹')[-1].strip()\n",
    "            elif \"Crude Oil\" in text:\n",
    "                data[\"Crude Oil\"] = text.split('$')[-1].strip()\n",
    "            elif \"USD\" in text:\n",
    "                data[\"USD\"] = text.split('₹')[-1].strip()\n",
    "                break  # Exit the retry loop if scraping is successful\n",
    "    except StaleElementReferenceException:\n",
    "        print(\"Element became stale. Retrying...\")\n",
    "        time.sleep(2)"
   ]
  },
  {
   "cell_type": "code",
   "execution_count": 47,
   "metadata": {},
   "outputs": [
    {
     "name": "stdout",
     "output_type": "stream",
     "text": [
      "\n",
      "Nifty 23,795.20 -0.08%\n",
      "22k Gold ₹ 7,150 /gm\n",
      "Silver ₹ 92,500/kg\n",
      "Petrol ₹ 103.50\n",
      "Diesel ₹ 90.03\n",
      "Crude Oil $70.65\n",
      "USD ₹ 85.45\n",
      "Sensex 78,581.56 -0.15%\n",
      "\n",
      "\n",
      "\n",
      "\n",
      "\n",
      "\n",
      "\n",
      "\n",
      "\n",
      "\n",
      "\n",
      "\n",
      "\n",
      "\n",
      "\n",
      "\n",
      "\n",
      "\n",
      "\n",
      "\n",
      "\n",
      "\n",
      "\n",
      "\n",
      "\n",
      "\n",
      "\n",
      "\n",
      "\n",
      "\n",
      "\n",
      "\n",
      "\n",
      "\n",
      "\n",
      "\n",
      "\n",
      "\n",
      "\n"
     ]
    }
   ],
   "source": [
    "for elem in elements:\n",
    "    text = elem.text.strip()\n",
    "    print(text)"
   ]
  },
  {
   "cell_type": "code",
   "execution_count": 48,
   "metadata": {},
   "outputs": [
    {
     "data": {
      "text/plain": [
       "{'22k Gold': [7150, 7150, 7150, 7150, 7150, 7150],\n",
       " 'Silver': [92500, 92500, 92500, 92500, 92500, 92500],\n",
       " 'Petrol': [103.5, 103.5, 103.5, 103.5, 103.5, 103.5],\n",
       " 'Diesel': [90.03, 90.03, 90.03, 90.03, 90.03, 90.03],\n",
       " 'Crude Oil': [70.65, 70.65, 70.65, 70.65, 70.65, 70.65],\n",
       " 'USD': [85.45, 85.45, 85.45, 85.45, 85.45, 85.45]}"
      ]
     },
     "execution_count": 9,
     "metadata": {},
     "output_type": "execute_result"
    }
   ],
   "source": [
    "data"
   ]
  },
  {
   "cell_type": "code",
   "execution_count": 1,
   "metadata": {},
   "outputs": [],
   "source": [
    "data = {\n",
    "    '22k Gold': [7150, 7150, 7150, 7150, 7150, 7150],\n",
    "    'Silver': [92500, 92500, 92500, 92500, 92500, 92500],\n",
    "    'Petrol': [103.50, 103.50, 103.50, 103.50, 103.50, 103.50],\n",
    "    'Diesel': [90.03, 90.03, 90.03, 90.03, 90.03, 90.03],\n",
    "    'Crude Oil': [70.65, 70.65, 70.65, 70.65, 70.65, 70.65],\n",
    "    'USD': [85.45, 85.45, 85.45, 85.45, 85.45, 85.45]\n",
    "}"
   ]
  },
  {
   "cell_type": "code",
   "execution_count": 10,
   "metadata": {},
   "outputs": [],
   "source": [
    "df = pd.DataFrame([data])"
   ]
  },
  {
   "cell_type": "code",
   "execution_count": 11,
   "metadata": {},
   "outputs": [],
   "source": [
    "file_path = \"scraped_data.xlsx\""
   ]
  },
  {
   "cell_type": "code",
   "execution_count": 12,
   "metadata": {},
   "outputs": [],
   "source": [
    "with pd.ExcelWriter(file_path, engine='openpyxl', mode='a', if_sheet_exists='overlay') as writer:\n",
    "        df.to_excel(writer, index=False, header=False, sheet_name='Sheet1')"
   ]
  },
  {
   "cell_type": "code",
   "execution_count": 13,
   "metadata": {},
   "outputs": [],
   "source": [
    "if os.path.exists(file_path):\n",
    "    with pd.ExcelWriter(file_path, engine='openpyxl', mode='a', if_sheet_exists='overlay') as writer:\n",
    "        df.to_excel(writer, index=False, header=False, sheet_name='Sheet1')\n",
    "else:\n",
    "    # If the file doesn't exist, create a new one and write the data\n",
    "    df.to_excel(file_path, index=False)"
   ]
  },
  {
   "cell_type": "code",
   "execution_count": 14,
   "metadata": {},
   "outputs": [
    {
     "ename": "NameError",
     "evalue": "name 'driver' is not defined",
     "output_type": "error",
     "traceback": [
      "\u001b[1;31m---------------------------------------------------------------------------\u001b[0m",
      "\u001b[1;31mNameError\u001b[0m                                 Traceback (most recent call last)",
      "Cell \u001b[1;32mIn[14], line 1\u001b[0m\n\u001b[1;32m----> 1\u001b[0m \u001b[43mdriver\u001b[49m\u001b[38;5;241m.\u001b[39mquit()\n",
      "\u001b[1;31mNameError\u001b[0m: name 'driver' is not defined"
     ]
    }
   ],
   "source": [
    "driver.quit()"
   ]
  },
  {
   "cell_type": "code",
   "execution_count": 15,
   "metadata": {},
   "outputs": [
    {
     "name": "stdout",
     "output_type": "stream",
     "text": [
      "Data scraped and appended to 'scraped_data.xlsx'\n"
     ]
    }
   ],
   "source": [
    "print(\"Data scraped and appended to 'scraped_data.xlsx'\")"
   ]
  },
  {
   "cell_type": "code",
   "execution_count": 9,
   "metadata": {},
   "outputs": [
    {
     "name": "stdout",
     "output_type": "stream",
     "text": [
      "Current Price (INR): 251.96\n",
      "Price Change (INR): -3.63\n",
      "Percentage Change (%): -1.42\n",
      "High Price (INR): 254.51\n",
      "Low Price (INR): 250.89\n",
      "Open Price (INR): 254.51\n",
      "Previous Close (INR): 255.59\n",
      "Last Updated (UTC): 2024-12-30 15:10:54\n",
      "Last Updated (IST): 2024-12-30 20:40:54\n"
     ]
    },
    {
     "name": "stderr",
     "output_type": "stream",
     "text": [
      "C:\\Users\\Windows 11\\AppData\\Local\\Temp\\ipykernel_10288\\3735655674.py:16: DeprecationWarning: datetime.datetime.utcfromtimestamp() is deprecated and scheduled for removal in a future version. Use timezone-aware objects to represent datetimes in UTC: datetime.datetime.fromtimestamp(timestamp, datetime.UTC).\n",
      "  utc_timestamp = datetime.utcfromtimestamp(data['t'])\n"
     ]
    }
   ],
   "source": [
    "import requests\n",
    "from datetime import datetime, timedelta\n",
    "\n",
    "api_key = \"ctpajl9r01qqsrsacaj0ctpajl9r01qqsrsacajg\"\n",
    "url = \"https://finnhub.io/api/v1/quote\"\n",
    "params = {\n",
    "    \"symbol\": \"AAPL\", \n",
    "    \"token\": api_key\n",
    "}\n",
    "\n",
    "response = requests.get(url, params=params)\n",
    "data = response.json()\n",
    "\n",
    "usd_to_inr = 1\n",
    "\n",
    "utc_timestamp = datetime.utcfromtimestamp(data['t']) \n",
    "ist_timestamp = utc_timestamp + timedelta(hours=5, minutes=30)\n",
    "\n",
    "readable_data = {\n",
    "    \"Current Price (INR)\": round(data['c'] * usd_to_inr, 2),\n",
    "    \"Price Change (INR)\": round(data['d'] * usd_to_inr, 2),\n",
    "    \"Percentage Change (%)\": round(data['dp'], 2),\n",
    "    \"High Price (INR)\": round(data['h'] * usd_to_inr, 2),\n",
    "    \"Low Price (INR)\": round(data['l'] * usd_to_inr, 2),\n",
    "    \"Open Price (INR)\": round(data['o'] * usd_to_inr, 2),\n",
    "    \"Previous Close (INR)\": round(data['pc'] * usd_to_inr, 2),\n",
    "    \"Last Updated (UTC)\": utc_timestamp.strftime('%Y-%m-%d %H:%M:%S'),\n",
    "    \"Last Updated (IST)\": ist_timestamp.strftime('%Y-%m-%d %H:%M:%S')\n",
    "}\n",
    "\n",
    "for key, value in readable_data.items():\n",
    "    print(f\"{key}: {value}\")\n"
   ]
  },
  {
   "cell_type": "code",
   "execution_count": 5,
   "metadata": {},
   "outputs": [
    {
     "data": {
      "text/plain": [
       "{'c': 251.515,\n",
       " 'd': -4.075,\n",
       " 'dp': -1.5944,\n",
       " 'h': 254.51,\n",
       " 'l': 250.89,\n",
       " 'o': 254.51,\n",
       " 'pc': 255.59,\n",
       " 't': 1735571023}"
      ]
     },
     "execution_count": 5,
     "metadata": {},
     "output_type": "execute_result"
    }
   ],
   "source": [
    "data"
   ]
  },
  {
   "cell_type": "code",
   "execution_count": null,
   "metadata": {},
   "outputs": [],
   "source": []
  }
 ],
 "metadata": {
  "kernelspec": {
   "display_name": "Python 3",
   "language": "python",
   "name": "python3"
  },
  "language_info": {
   "codemirror_mode": {
    "name": "ipython",
    "version": 3
   },
   "file_extension": ".py",
   "mimetype": "text/x-python",
   "name": "python",
   "nbconvert_exporter": "python",
   "pygments_lexer": "ipython3",
   "version": "3.13.0"
  }
 },
 "nbformat": 4,
 "nbformat_minor": 2
}
